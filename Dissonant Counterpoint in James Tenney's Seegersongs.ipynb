{
 "cells": [
  {
   "cell_type": "markdown",
   "metadata": {
    "slideshow": {
     "slide_type": "slide"
    }
   },
   "source": [
    "# Dissonant Counterpoint and Statistical Feedback in James Tenney's Seegersongs"
   ]
  },
  {
   "cell_type": "markdown",
   "metadata": {
    "slideshow": {
     "slide_type": "subslide"
    }
   },
   "source": [
    "James Tenney's Seegersong #1 (solo clarinet) and Seegersong #2 (solo flute) explore the use of dissonant counterpoint in melodic writing, modelling the technique of avoiding pitch repetition used by Ruth Crawford Seeger. Tenney developed an algorithm for tracking and calculating the probability of pitch recurrence. The Dissonant Counterpoint Algorithm (DCA) is the name attributed by Larry Polansky, Alex Barnett, and Michael Winter (A Few More Words About James Tenney:\n",
    "Dissonant Counterpoint and Statistical Feedback, http://eamusic.dartmouth.edu/~larry/published_articles/dc_nov_6.pdf). This algorithm appeared in different forms throughout much of Tenney's later work, though he showed a musicological interest at least as early as the 70's in his paper on Carl Ruggles (The Chronological Development of Carl Ruggles' Melodic Style, Perspectives of New Music, Vol. 16, No. 1 (Autumn - Winter, 1977), pp. 36-69). \n",
    "\n",
    "Just like in serialism, this technique can be applied to any computable musical parameter, but in Seegersongs it is used clearly to determine pitch material in a chromatic field.\n",
    "\n",
    "My purpose here is to present simple examples of the use of statistical feedback in randomized pitch selection similar to Tenney's methods in Seegersongs and the way parameters may be manipulated for different types of output. Scrolling down through the text and code, various widgets will appear throughout that will allow you to change individual parameters and generate output which will print beneath each cell. If you edit any of the code, you will need to rerun that cell by pressing shift-enter with the cell selected or pressing \"Run\" in the top menu."
   ]
  },
  {
   "cell_type": "code",
   "execution_count": 1,
   "metadata": {
    "init_cell": true,
    "slideshow": {
     "slide_type": "skip"
    }
   },
   "outputs": [],
   "source": [
    "# imports\n",
    "\n",
    "import ipywidgets as widgets\n",
    "from IPython.display import clear_output\n",
    "import dca_functions"
   ]
  },
  {
   "cell_type": "markdown",
   "metadata": {
    "slideshow": {
     "slide_type": "slide"
    }
   },
   "source": [
    "These first examples will generate use numeric output which could be applied to any parameter but here will be assumed to be in regard to pitches for simplicity (in this case chromatic pitches, but could be partials, frequencies, etc.). As stated above, this data could also be used to map various other musical parameters (timing, dynamics, voicing, etc.)."
   ]
  },
  {
   "cell_type": "code",
   "execution_count": 2,
   "metadata": {
    "init_cell": true,
    "scrolled": true,
    "slideshow": {
     "slide_type": "slide"
    }
   },
   "outputs": [
    {
     "name": "stdout",
     "output_type": "stream",
     "text": [
      "Specify pitches to build pitch sequence from (0 is Middle C)\n"
     ]
    },
    {
     "data": {
      "application/vnd.jupyter.widget-view+json": {
       "model_id": "bc5bf90709ee41cbbaec85b6dd5b1b0f",
       "version_major": 2,
       "version_minor": 0
      },
      "text/plain": [
       "IntRangeSlider(value=(0, 11), description='Pitch Range:', max=11)"
      ]
     },
     "metadata": {},
     "output_type": "display_data"
    },
    {
     "name": "stdout",
     "output_type": "stream",
     "text": [
      "Specify length of sequence in notes:\n"
     ]
    },
    {
     "data": {
      "application/vnd.jupyter.widget-view+json": {
       "model_id": "2bd07ba6a4c046459f8c954c329ea196",
       "version_major": 2,
       "version_minor": 0
      },
      "text/plain": [
       "IntSlider(value=50, description='Length (# notes):', max=500, min=1, style=SliderStyle(description_width='init…"
      ]
     },
     "metadata": {},
     "output_type": "display_data"
    }
   ],
   "source": [
    "# default declaration, can change with slider/button\n",
    "pitches = list(range(0, 12))\n",
    "\n",
    "pitch_range_slider = widgets.IntRangeSlider(\n",
    "    value=[0, 11],\n",
    "    min=0,\n",
    "    max=11, # make this larger to include more than one octave\n",
    "    description='Pitch Range:', # chromatic pitches\n",
    ")\n",
    "\n",
    "print(\"Specify pitches to build pitch sequence from (0 is Middle C)\")\n",
    "display(pitch_range_slider)\n",
    "\n",
    "# can change this to offset from middle C\n",
    "offset = 0\n",
    "\n",
    "# Number of pitches in sequence\n",
    "length = widgets.IntSlider(\n",
    "    value=50,\n",
    "    min=1,\n",
    "    max=500,\n",
    "    step=1,\n",
    "    description='Length (# notes):',\n",
    "    style={'description_width': 'initial', 'width': '800px'},\n",
    "    readout=True,\n",
    ")\n",
    "print(\"Specify length of sequence in notes:\")\n",
    "display(length)\n",
    "    \n"
   ]
  },
  {
   "cell_type": "markdown",
   "metadata": {},
   "source": [
    "Although each pitch is generated randomly, the DCA differs from an independent and identically distributed random process (Polansky, Barnett, Winter, p. 5) in that it guarantees a more uniform local and global random distribution. In a random process like rolling a die, it is not uncommon to roll the same number multiple times in a row, so looking at just a few rolls might not give an accurate picture of the process. Clicking the button below after running the next cell will generate random pitch sequences, though there will likely be some repetitions. Try clicking a few times and compare individual parts of the sequence to see how the distribution varies dramatically at times."
   ]
  },
  {
   "cell_type": "code",
   "execution_count": 3,
   "metadata": {
    "init_cell": true
   },
   "outputs": [
    {
     "data": {
      "application/vnd.jupyter.widget-view+json": {
       "model_id": "0131342bdf8a4d5d952e6253fbb7d786",
       "version_major": 2,
       "version_minor": 0
      },
      "text/plain": [
       "Button(description='Make random pitch sequence', layout=Layout(width='200px'), style=ButtonStyle())"
      ]
     },
     "metadata": {},
     "output_type": "display_data"
    },
    {
     "data": {
      "application/vnd.jupyter.widget-view+json": {
       "model_id": "7ef4509af3c34f79abd07d2faac259e6",
       "version_major": 2,
       "version_minor": 0
      },
      "text/plain": [
       "Output()"
      ]
     },
     "metadata": {},
     "output_type": "display_data"
    }
   ],
   "source": [
    "random_PS_button = widgets.Button(\n",
    "    description='Make random pitch sequence',\n",
    "    layout=widgets.Layout(width='200px'),\n",
    ")\n",
    "output = widgets.Output()\n",
    "\n",
    "display(random_PS_button, output)\n",
    "\n",
    "def on_button_clicked(b):\n",
    "    with output:\n",
    "        clear_output()\n",
    "        print(dca_functions.make_random_pitch_sequence(offset, length, pitch_range_slider))\n",
    "\n",
    "random_PS_button.on_click(on_button_clicked)"
   ]
  },
  {
   "cell_type": "markdown",
   "metadata": {},
   "source": [
    "The DCA keeps track of how long it has been since each element (pitch in this case) has been selected and calculates the probability of it being selected next, based on that count. A growth function can be specified to control how this count affects the probability (Tenney used an exponential function to increase the probability of high counts being selected). A weight parameter can be specified to affect the probability of individual elements (Tenney determined a pitch center which moved over time and calculated the weight of the other pitch elements by their proximity to this center). \n",
    "\n",
    "Try adjusting the above parameters and clicking the button to generate different sequences. The weight option \"equal\" will equally favor each element. \"favor lower\" and \"favor upper\" will favor one side or the other of the pitch range, while \"favor center\" will diminish the weight going up and down from the center (so the highest and lowest elements will have the lowest weight).\n",
    "\n",
    "Read through some of the data output. Each random note selection is printed with the counts for each element and their current probabilities. When a pitch element is selected, its count is set to zero and will increase with each future selection until it's selected again. Its probability will be the lowest right after being selected. Scroll to the bottom and look at the full sequence. Are there any direct repetitions? Probably not. There is still a small chance for direct repetitions to occur, but they will be very unlikely. Look at the pitch frequency for each element from the sequence. An equal weight should mean that the pitch frequencies are nearly identical. A favored weighting should be reflected as well. Try adjusting the sequence length. While very short sequences might still have some weird variations, the distribution should be much closer to that of the long sequences than in the iid random sequences."
   ]
  },
  {
   "cell_type": "code",
   "execution_count": 4,
   "metadata": {
    "init_cell": true
   },
   "outputs": [
    {
     "data": {
      "application/vnd.jupyter.widget-view+json": {
       "model_id": "bc5bf90709ee41cbbaec85b6dd5b1b0f",
       "version_major": 2,
       "version_minor": 0
      },
      "text/plain": [
       "IntRangeSlider(value=(0, 11), description='Pitch Range:', max=11)"
      ]
     },
     "metadata": {},
     "output_type": "display_data"
    },
    {
     "data": {
      "application/vnd.jupyter.widget-view+json": {
       "model_id": "2bd07ba6a4c046459f8c954c329ea196",
       "version_major": 2,
       "version_minor": 0
      },
      "text/plain": [
       "IntSlider(value=50, description='Length (# notes):', max=500, min=1, style=SliderStyle(description_width='init…"
      ]
     },
     "metadata": {},
     "output_type": "display_data"
    },
    {
     "data": {
      "application/vnd.jupyter.widget-view+json": {
       "model_id": "0e4259fc089f4a6c9b8db42dc12f3cda",
       "version_major": 2,
       "version_minor": 0
      },
      "text/plain": [
       "Dropdown(description='Weight options:', options=('equal', 'favor lower', 'favor center', 'favor upper'), style…"
      ]
     },
     "metadata": {},
     "output_type": "display_data"
    },
    {
     "data": {
      "application/vnd.jupyter.widget-view+json": {
       "model_id": "7efaf1587d3e4b7cb14b537ac7562a83",
       "version_major": 2,
       "version_minor": 0
      },
      "text/plain": [
       "Button(description='Make dissonant counterpoint spaced pitch sequence', layout=Layout(width='350px'), style=Bu…"
      ]
     },
     "metadata": {},
     "output_type": "display_data"
    },
    {
     "data": {
      "application/vnd.jupyter.widget-view+json": {
       "model_id": "7ef4509af3c34f79abd07d2faac259e6",
       "version_major": 2,
       "version_minor": 0
      },
      "text/plain": [
       "Output()"
      ]
     },
     "metadata": {},
     "output_type": "display_data"
    }
   ],
   "source": [
    "dca_PS_button1 = widgets.Button(\n",
    "    description='Make dissonant counterpoint spaced pitch sequence',\n",
    "    layout=widgets.Layout(width='350px'),\n",
    ")\n",
    "\n",
    "dca_PS_button2 = widgets.Button(\n",
    "    description='Make dissonant counterpoint spaced pitch sequence',\n",
    "    layout=widgets.Layout(width='350px'),\n",
    ")\n",
    "\n",
    "display(pitch_range_slider)\n",
    "display(length)\n",
    "\n",
    "weights_option = widgets.Dropdown(\n",
    "    options=['equal', 'favor lower', 'favor center', 'favor upper'],\n",
    "    value='equal',\n",
    "    description='Weight options:',\n",
    "    style={'description_width': 'initial', 'width': '800px'},\n",
    ")\n",
    "\n",
    "print_option = widgets.ToggleButtons(\n",
    "    options=[\"Don't Print\", \"Print Notation\"],\n",
    "    description='Print Option:',\n",
    "    disabled=False,\n",
    "    button_style='', # 'success', 'info', 'warning', 'danger' or ''\n",
    ")\n",
    "\n",
    "display(weights_option)\n",
    "\n",
    "display(dca_PS_button1, output)\n",
    "\n",
    "def on_dca_button_clicked(b):\n",
    "    with output:\n",
    "        clear_output()\n",
    "        if print_option.value == \"Print Notation\":\n",
    "            print_ly = True\n",
    "            show_data = False\n",
    "        else:\n",
    "            print_ly = False\n",
    "            show_data = True\n",
    "        sequence = dca_functions.make_dca_spaced_pitch_sequence(offset, weights_option, length, pitch_range_slider, show_data=show_data, print_ly=print_ly)\n",
    "        print(\"Sequence:\", sequence)\n",
    "        \n",
    "        pitches = list(range(pitch_range_slider.value[0], pitch_range_slider.value[1]+1))\n",
    "        print(\"\\nPitch Frequency (total times each pitch occurs in sequence:\")\n",
    "        for pitch in pitches:\n",
    "            print(pitch, \":\", sequence.count(pitch))\n",
    "        \n",
    "dca_PS_button1.on_click(on_dca_button_clicked)\n",
    "dca_PS_button2.on_click(on_dca_button_clicked)"
   ]
  },
  {
   "cell_type": "markdown",
   "metadata": {},
   "source": [
    "Now let's see what this looks like in notation. Set the print option to \"Print Notation\" and create a new sequence. After a moment a score image will display, followed by the numeric output and frequency counts."
   ]
  },
  {
   "cell_type": "code",
   "execution_count": 5,
   "metadata": {
    "init_cell": true,
    "scrolled": false
   },
   "outputs": [
    {
     "data": {
      "application/vnd.jupyter.widget-view+json": {
       "model_id": "abd614917de943b6af65216dfeed013c",
       "version_major": 2,
       "version_minor": 0
      },
      "text/plain": [
       "ToggleButtons(description='Print Option:', options=(\"Don't Print\", 'Print Notation'), value=\"Don't Print\")"
      ]
     },
     "metadata": {},
     "output_type": "display_data"
    },
    {
     "data": {
      "application/vnd.jupyter.widget-view+json": {
       "model_id": "bc5bf90709ee41cbbaec85b6dd5b1b0f",
       "version_major": 2,
       "version_minor": 0
      },
      "text/plain": [
       "IntRangeSlider(value=(0, 11), description='Pitch Range:', max=11)"
      ]
     },
     "metadata": {},
     "output_type": "display_data"
    },
    {
     "data": {
      "application/vnd.jupyter.widget-view+json": {
       "model_id": "2bd07ba6a4c046459f8c954c329ea196",
       "version_major": 2,
       "version_minor": 0
      },
      "text/plain": [
       "IntSlider(value=50, description='Length (# notes):', max=500, min=1, style=SliderStyle(description_width='init…"
      ]
     },
     "metadata": {},
     "output_type": "display_data"
    },
    {
     "data": {
      "application/vnd.jupyter.widget-view+json": {
       "model_id": "0e4259fc089f4a6c9b8db42dc12f3cda",
       "version_major": 2,
       "version_minor": 0
      },
      "text/plain": [
       "Dropdown(description='Weight options:', options=('equal', 'favor lower', 'favor center', 'favor upper'), style…"
      ]
     },
     "metadata": {},
     "output_type": "display_data"
    },
    {
     "data": {
      "application/vnd.jupyter.widget-view+json": {
       "model_id": "e53ec99b5095428b9589a09b22b7f030",
       "version_major": 2,
       "version_minor": 0
      },
      "text/plain": [
       "Button(description='Make dissonant counterpoint spaced pitch sequence', layout=Layout(width='350px'), style=Bu…"
      ]
     },
     "metadata": {},
     "output_type": "display_data"
    },
    {
     "data": {
      "application/vnd.jupyter.widget-view+json": {
       "model_id": "7ef4509af3c34f79abd07d2faac259e6",
       "version_major": 2,
       "version_minor": 0
      },
      "text/plain": [
       "Output()"
      ]
     },
     "metadata": {},
     "output_type": "display_data"
    }
   ],
   "source": [
    "display(print_option)\n",
    "display(pitch_range_slider)\n",
    "display(length)\n",
    "display(weights_option)\n",
    "display(dca_PS_button2, output)"
   ]
  },
  {
   "cell_type": "markdown",
   "metadata": {},
   "source": [
    "# How about changing over time?"
   ]
  },
  {
   "cell_type": "markdown",
   "metadata": {},
   "source": [
    "Following the general form of Seegersong #1, we can create a similar piece which:\n",
    "\n",
    "1. makes weights a function of their distance from a pitch center\n",
    "2. moves that pitch center over time\n",
    "3. makes sequences vary in length (ending each one with a rest)\n",
    "4. increases pitch center and sequence average length until 2/3 through form, then decreases\n",
    "\n",
    "Click the button below to generate a piece. It will take a minute to generate the notation. Scroll down to view everything."
   ]
  },
  {
   "cell_type": "code",
   "execution_count": 6,
   "metadata": {
    "init_cell": true
   },
   "outputs": [
    {
     "data": {
      "application/vnd.jupyter.widget-view+json": {
       "model_id": "a044d03e83b0443eafe50390ebd94924",
       "version_major": 2,
       "version_minor": 0
      },
      "text/plain": [
       "Button(description='Make dissonant counterpoint piece', layout=Layout(width='350px'), style=ButtonStyle())"
      ]
     },
     "metadata": {},
     "output_type": "display_data"
    },
    {
     "data": {
      "application/vnd.jupyter.widget-view+json": {
       "model_id": "7ef4509af3c34f79abd07d2faac259e6",
       "version_major": 2,
       "version_minor": 0
      },
      "text/plain": [
       "Output()"
      ]
     },
     "metadata": {},
     "output_type": "display_data"
    }
   ],
   "source": [
    "dca_piece_button = widgets.Button(\n",
    "    description='Make dissonant counterpoint piece',\n",
    "    layout=widgets.Layout(width='350px'),\n",
    ")\n",
    "\n",
    "def on_dca_button3_clicked(b):\n",
    "    with output:\n",
    "        clear_output()      \n",
    "        # build clangs\n",
    "        total_clangs = 72\n",
    "\n",
    "        # weight by proximity to pitch center\n",
    "        weights_option.value = \"favor center\"\n",
    "\n",
    "        # make peak 2/3 of the way through form\n",
    "        peak = int(total_clangs * (2/3))\n",
    "\n",
    "        initial_length = 5\n",
    "        undeviated_length = initial_length\n",
    "        length.value = initial_length # length of initial sequence\n",
    "        length_deviation = int(length.value * 0.5)\n",
    "\n",
    "        offset = -12\n",
    "        pitch_center = 6\n",
    "        clangs = []\n",
    "\n",
    "        for clang in range(total_clangs):\n",
    "            pitches = [*range(int(pitch_center) - 6, int(pitch_center+6))]\n",
    "            #print(pitches)\n",
    "\n",
    "            sequence = dca_functions.make_clang(offset, length_deviation, weights_option, undeviated_length, length, pitch_range_slider, pitches=pitches)\n",
    "            clangs.append(sequence)\n",
    "\n",
    "            if clang < peak:\n",
    "                pitch_center += 0.6\n",
    "                undeviated_length += 1\n",
    "            else:\n",
    "                pitch_center -= 1.25\n",
    "                undeviated_length -= 2\n",
    "                length_deviation = int(length.value * 0.5)\n",
    "\n",
    "        for clang in clangs:\n",
    "            print(clang)\n",
    "\n",
    "        dca_functions.output_clangs_ly(clangs)\n",
    "        \n",
    "display(dca_piece_button, output)\n",
    "\n",
    "dca_piece_button.on_click(on_dca_button3_clicked)"
   ]
  }
 ],
 "metadata": {
  "kernelspec": {
   "display_name": "Python 3",
   "language": "python",
   "name": "python3"
  },
  "language_info": {
   "codemirror_mode": {
    "name": "ipython",
    "version": 3
   },
   "file_extension": ".py",
   "mimetype": "text/x-python",
   "name": "python",
   "nbconvert_exporter": "python",
   "pygments_lexer": "ipython3",
   "version": "3.6.8"
  }
 },
 "nbformat": 4,
 "nbformat_minor": 2
}
