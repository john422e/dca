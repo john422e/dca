{
 "cells": [
  {
   "cell_type": "code",
   "execution_count": null,
   "metadata": {},
   "outputs": [],
   "source": [
    "from random import choice, randrange\n",
    "from numpy.random import choice as npchoice\n",
    "import abjad"
   ]
  },
  {
   "cell_type": "code",
   "execution_count": null,
   "metadata": {
    "scrolled": true
   },
   "outputs": [],
   "source": [
    "pitches = range(12)\n",
    "counts = [0] * 12 # counts since that index of pitches was chosen\n",
    "pcprob = [1] * 12 # pitch class probability\n",
    "weights = [1] * 12 # how much to weigh each element's probability\n",
    "\n",
    "offset = int(input(\"Pitch Offset: \"))\n",
    "length = int(input(\"Number of pitches in sequence: \")) # number of notes, for now—can determine length in other ways"
   ]
  },
  {
   "cell_type": "code",
   "execution_count": null,
   "metadata": {},
   "outputs": [],
   "source": [
    "def make_random_pitch_sequence(pitches, offset, length):\n",
    "    sequence = []\n",
    "    for note in range(length):\n",
    "        note = choice(pitches)\n",
    "        sequence.append(note + offset)\n",
    "    return sequence"
   ]
  },
  {
   "cell_type": "code",
   "execution_count": null,
   "metadata": {
    "scrolled": true
   },
   "outputs": [],
   "source": [
    "print(make_random_pitch_sequence(pitches, offset, length))"
   ]
  },
  {
   "cell_type": "markdown",
   "metadata": {},
   "source": [
    "# Notice the repetitions"
   ]
  },
  {
   "cell_type": "code",
   "execution_count": null,
   "metadata": {},
   "outputs": [],
   "source": [
    "def get_probs(weights, counts):\n",
    "    probs = []\n",
    "    total = 0\n",
    "    for i in range(len(weights)):\n",
    "        total += weights[i] * growth_function(counts[i])\n",
    "\n",
    "    for i in range(len(weights)):\n",
    "        prob = weights[i] * growth_function(counts[i]) / total\n",
    "        probs.append(prob)\n",
    "\n",
    "    return probs"
   ]
  },
  {
   "cell_type": "code",
   "execution_count": null,
   "metadata": {},
   "outputs": [],
   "source": [
    "def growth_function(n): # Tenney's convex growth function\n",
    "    return 2**n"
   ]
  },
  {
   "cell_type": "code",
   "execution_count": null,
   "metadata": {},
   "outputs": [],
   "source": [
    "def make_dca_spaced_pitch_sequence(pitches, offset, weights, length, show_data=False):\n",
    "    counts = [0] * len(pitches)\n",
    "    pcprobs = get_probs(weights, counts)\n",
    "\n",
    "    sequence = []\n",
    "    for note in range(length):\n",
    "        # random choice according to probability\n",
    "        note_choice = npchoice(pitches, p=pcprobs)\n",
    "        element = pitches.index(note_choice)\n",
    "        note = note_choice + offset\n",
    "\n",
    "        # add note to sequence\n",
    "        sequence.append(note)\n",
    "\n",
    "        # now update counts\n",
    "        for i, pitch in enumerate(pitches):\n",
    "            if i == element:\n",
    "                counts[i] = 0\n",
    "            else:\n",
    "                counts[i] += 1\n",
    "\n",
    "        # recalculate pcprobs\n",
    "        pcprobs = get_probs(weights, counts)\n",
    "\n",
    "        if show_data:\n",
    "            print(\"\\nRandom index choice:\", note_choice)\n",
    "            print(\"Current counts:\", counts)\n",
    "            print(\"Current probabilities:\", pcprobs)\n",
    "\n",
    "    return sequence"
   ]
  },
  {
   "cell_type": "code",
   "execution_count": null,
   "metadata": {},
   "outputs": [],
   "source": [
    "print(make_dca_spaced_pitch_sequence(pitches, offset, weights, length, show_data=True))"
   ]
  },
  {
   "cell_type": "markdown",
   "metadata": {},
   "source": [
    "# After an element is chosen, it's count goes to 0 and it's probability goes to near-zero. Higher counts are biased by the growth function (2**n) to have even higher probabilities."
   ]
  },
  {
   "cell_type": "code",
   "execution_count": null,
   "metadata": {},
   "outputs": [],
   "source": [
    "length = int(input(\"Length: \"))\n",
    "sequence = make_dca_spaced_pitch_sequence(pitches, offset, weights, length)\n",
    "print(sequence)"
   ]
  },
  {
   "cell_type": "markdown",
   "metadata": {},
   "source": [
    "# See any repetitions? Probably not!"
   ]
  },
  {
   "cell_type": "markdown",
   "metadata": {},
   "source": [
    "# Here's what the pitch frequency looks like:"
   ]
  },
  {
   "cell_type": "code",
   "execution_count": null,
   "metadata": {},
   "outputs": [],
   "source": [
    "for pitch in pitches:\n",
    "    print(sequence.count(pitch))"
   ]
  },
  {
   "cell_type": "markdown",
   "metadata": {},
   "source": [
    "# what if we change the weights to favor certain pitches?"
   ]
  },
  {
   "cell_type": "code",
   "execution_count": null,
   "metadata": {},
   "outputs": [],
   "source": [
    "weights = [i * 2 for i in range(1, 13)]"
   ]
  },
  {
   "cell_type": "code",
   "execution_count": null,
   "metadata": {},
   "outputs": [],
   "source": [
    "sequence = make_dca_spaced_pitch_sequence(pitches, offset, weights, length)\n",
    "print(sequence)"
   ]
  },
  {
   "cell_type": "code",
   "execution_count": null,
   "metadata": {
    "scrolled": true
   },
   "outputs": [],
   "source": [
    "for pitch in pitches:\n",
    "    print(sequence.count(pitch))"
   ]
  },
  {
   "cell_type": "markdown",
   "metadata": {},
   "source": [
    "# Still some randomness, but definitely skewed towards one side"
   ]
  },
  {
   "cell_type": "markdown",
   "metadata": {},
   "source": [
    "# Let's reset the weights to an equal value and try that again"
   ]
  },
  {
   "cell_type": "code",
   "execution_count": null,
   "metadata": {},
   "outputs": [],
   "source": [
    "weights = [1] * 12 # how much to weigh each element's probability"
   ]
  },
  {
   "cell_type": "markdown",
   "metadata": {},
   "source": [
    "# Now let's see what this looks like in notation"
   ]
  },
  {
   "cell_type": "code",
   "execution_count": null,
   "metadata": {},
   "outputs": [],
   "source": [
    "def output_ly(sequence):\n",
    "    notes = []\n",
    "    for pitch in sequence:\n",
    "        duration = abjad.Duration(1, 4)\n",
    "        note = abjad.Note(pitch, duration)\n",
    "        notes.append(note)\n",
    "\n",
    "    staff = abjad.Staff(notes)\n",
    "    abjad.show(staff)"
   ]
  },
  {
   "cell_type": "code",
   "execution_count": null,
   "metadata": {},
   "outputs": [],
   "source": [
    "sequence = make_dca_spaced_pitch_sequence(pitches, offset, weights, length)\n",
    "output_ly(sequence)"
   ]
  },
  {
   "cell_type": "markdown",
   "metadata": {},
   "source": [
    "# How about changing over time?"
   ]
  },
  {
   "cell_type": "markdown",
   "metadata": {},
   "source": [
    "1. make weights a function of their distance from a pitch center\n",
    "2. move that pitch center over time\n",
    "3. make sequences (clangs) vary in length\n",
    "4. increase pitch center and sequence average length until 2/3 through form, then decrease"
   ]
  },
  {
   "cell_type": "code",
   "execution_count": null,
   "metadata": {},
   "outputs": [],
   "source": [
    "def make_clang(pitches, weights, length, deviation, offset=0):\n",
    "    # length = average length +/- deviation range\n",
    "    length = length + randrange(deviation*-1, deviation)\n",
    "    sequence = make_dca_spaced_pitch_sequence(pitches, offset, weights, length)\n",
    "    sequence.append(\"rest\") # end every clang with a rest\n",
    "    return sequence"
   ]
  },
  {
   "cell_type": "code",
   "execution_count": null,
   "metadata": {},
   "outputs": [],
   "source": [
    "# build clangs\n",
    "total_clangs = 72\n",
    "\n",
    "# weight by proximity to pitch center\n",
    "increasing = [ 1 * i for i in range(1, 7) ]\n",
    "decreasing = list(reversed(increasing))\n",
    "weights = increasing + decreasing\n",
    "\n",
    "# make peak 2/3 of the way through form. Tenney does this with a calculation based on the golden mean, but is more/less in the same place\n",
    "peak = int(total_clangs * (2/3))\n",
    "\n",
    "length = 5\n",
    "length_deviation = int(length * 0.5)\n",
    "\n",
    "offset = -12\n",
    "pitch_center = 6\n",
    "clangs = []"
   ]
  },
  {
   "cell_type": "code",
   "execution_count": null,
   "metadata": {},
   "outputs": [],
   "source": [
    "for clang in range(total_clangs):\n",
    "    pitches = [*range(int(pitch_center) - 6, int(pitch_center+6))]\n",
    "    #print(pitches)\n",
    "\n",
    "    sequence = make_clang(pitches, weights, length, length_deviation, offset=offset)\n",
    "    clangs.append(sequence)\n",
    "\n",
    "    if clang < peak:\n",
    "        pitch_center += 0.6\n",
    "        length += 1\n",
    "    else:\n",
    "        pitch_center -= 1.25\n",
    "        length -= 2\n",
    "    length_deviation = int(length * 0.5)"
   ]
  },
  {
   "cell_type": "code",
   "execution_count": null,
   "metadata": {},
   "outputs": [],
   "source": [
    "for clang in clangs:\n",
    "    print(clang)"
   ]
  },
  {
   "cell_type": "code",
   "execution_count": null,
   "metadata": {},
   "outputs": [],
   "source": [
    "def output_clangs(clangs):\n",
    "    notes = []\n",
    "    for clang in clangs:\n",
    "        for pitch in clang:\n",
    "            if pitch == \"rest\":\n",
    "                notes.append(abjad.Rest('r8'))\n",
    "            else:\n",
    "                duration = abjad.Duration(1, 8)\n",
    "                note = abjad.Note(pitch, duration)\n",
    "                notes.append(note)\n",
    "\n",
    "    staff = abjad.Staff(notes)\n",
    "    abjad.show(staff)\n",
    "    abjad.play(staff)"
   ]
  },
  {
   "cell_type": "code",
   "execution_count": null,
   "metadata": {},
   "outputs": [],
   "source": [
    "output_clangs(clangs)"
   ]
  }
 ],
 "metadata": {
  "kernelspec": {
   "display_name": "Python 3",
   "language": "python",
   "name": "python3"
  },
  "language_info": {
   "codemirror_mode": {
    "name": "ipython",
    "version": 3
   },
   "file_extension": ".py",
   "mimetype": "text/x-python",
   "name": "python",
   "nbconvert_exporter": "python",
   "pygments_lexer": "ipython3",
   "version": "3.6.8"
  },
  "widgets": {
   "application/vnd.jupyter.widget-state+json": {
    "state": {},
    "version_major": 2,
    "version_minor": 0
   }
  }
 },
 "nbformat": 4,
 "nbformat_minor": 2
}
