{
 "cells": [
  {
   "cell_type": "markdown",
   "metadata": {},
   "source": [
    "# Dissonant Counterpoint and Statistical Feedback in James Tenney's Seegersongs"
   ]
  },
  {
   "cell_type": "markdown",
   "metadata": {},
   "source": [
    "James Tenney's Seegersong #1 (solo clarinet) and Seegersong #2 (solo flute) explore the use of dissonant counterpoint in melodic writing, as modelled in the earlier work of Ruth Crawford Seeger. Incorporating Seeger's avoidance of repeated pitches, Tenney developed an algorithm for tracking and calculating the probability of pitch recurrence. The Dissonant Counterpoint Algorithm (DCA) is the name attributed by Larry Polansky, Alex Barnett, and Michael Winter (A Few More Words About James Tenney:\n",
    "Dissonant Counterpoint and Statistical Feedback, http://eamusic.dartmouth.edu/~larry/published_articles/dc_nov_6.pdf). This algorithm appeared in different forms throughout much of Tenney's later work, though he showed a musicological interest at least as early as the 70's in his paper on Carl Ruggles (The Chronological Development of Carl Ruggles' Melodic Style, Perspectives of New Music, Vol. 16, No. 1 (Autumn - Winter, 1977), pp. 36-69). \n",
    "\n",
    "Just like in serialism, this technique can be applied to any computable musical parameter, but in Seegersongs it is used clearly to determine pitch material in a chromatic field.\n",
    "\n",
    "My purpose here is to present simple examples of the use of statistical feedback in randomized pitch selection similar to Tenney's methods in Seegersongs and the way parameters may be manipulated for different types of output.\n",
    "\n",
    "To work through the notebook, execute each cell, one by one (don't skip any!), by selecting it and pressing Shift-Enter, or clicking \"Run\" in the top menu. Various widgets will appear throughout that will allow you to change individual parameters and generate output which will print beneath each cell."
   ]
  },
  {
   "cell_type": "code",
   "execution_count": null,
   "metadata": {},
   "outputs": [],
   "source": [
    "# imports\n",
    "\n",
    "import ipywidgets as widgets\n",
    "from IPython.display import clear_output\n",
    "import dca_functions"
   ]
  },
  {
   "cell_type": "markdown",
   "metadata": {},
   "source": [
    "These examples will use the chromatic scale (or a subset) to select pitch material from, but could easily be modified to use partials, frequencies, or any other pitch measurement metric. And, as stated above, could be used to map various other musical parameters (timing, dynamics, voicing, etc.)."
   ]
  },
  {
   "cell_type": "code",
   "execution_count": null,
   "metadata": {
    "scrolled": true
   },
   "outputs": [],
   "source": [
    "# default declaration, can change with slider/button\n",
    "pitches = list(range(0, 12))\n",
    "\n",
    "pitch_range_slider = widgets.IntRangeSlider(\n",
    "    value=[0, 11],\n",
    "    min=0,\n",
    "    max=11, # make this larger to include more than one octave\n",
    "    description='Pitch Range:', # chromatic pitches\n",
    ")\n",
    "\n",
    "print(\"Specify pitches to build pitch sequence from (0 is Middle C)\")\n",
    "display(pitch_range_slider)\n",
    "\n",
    "# can change this to offset from middle C\n",
    "offset = 0\n",
    "\n",
    "# Number of pitches in sequence\n",
    "length = widgets.IntSlider(\n",
    "    value=50,\n",
    "    min=1,\n",
    "    max=500,\n",
    "    step=1,\n",
    "    description='Length (# notes):',\n",
    "    style={'description_width': 'initial', 'width': '800px'},\n",
    "    readout=True,\n",
    ")\n",
    "print(\"Specify length of sequence in notes:\")\n",
    "display(length)\n",
    "    \n"
   ]
  },
  {
   "cell_type": "code",
   "execution_count": null,
   "metadata": {},
   "outputs": [],
   "source": [
    "random_PS_button = widgets.Button(\n",
    "    description='Make random pitch sequence',\n",
    "    layout=widgets.Layout(width='200px'),\n",
    ")\n",
    "output = widgets.Output()\n",
    "\n",
    "display(random_PS_button, output)\n",
    "\n",
    "def on_button_clicked(b):\n",
    "    with output:\n",
    "        clear_output()\n",
    "        print(dca_functions.make_random_pitch_sequence(offset, length, pitch_range_slider))\n",
    "\n",
    "random_PS_button.on_click(on_button_clicked)"
   ]
  },
  {
   "cell_type": "markdown",
   "metadata": {},
   "source": [
    "Although each pitch is generated randomly, the DCA differs from an independent and identically distributed random process (Polansky, Barnett, Winter, p. 5) in that it guarantees a more uniform local and global random distribution. In random process like rolling a die, it is not uncommon to roll the same number multiple times in a row, so looking at just a few rolls might not give an accurate picture of the process. Clicking the button above will generate random pitch sequences, though there will likely be some repetitions. Try clicking a few times and imagine how the repetitions might skew one's perception of the pitch material."
   ]
  },
  {
   "cell_type": "code",
   "execution_count": null,
   "metadata": {},
   "outputs": [],
   "source": [
    "dca_PS_button = widgets.Button(\n",
    "    description='Make dissonant counterpoint spaced pitch sequence',\n",
    "    layout=widgets.Layout(width='350px'),\n",
    ")\n",
    "\n",
    "display(pitch_range_slider)\n",
    "display(length)\n",
    "\n",
    "\n",
    "weights_option = widgets.Dropdown(\n",
    "    options=['equal', 'favor lower', 'favor center', 'favor upper'],\n",
    "    value='equal',\n",
    "    description='Weight options:',\n",
    "    style={'description_width': 'initial', 'width': '800px'},\n",
    ")\n",
    "\n",
    "print_option = widgets.ToggleButtons(\n",
    "    options=[\"Don't Print\", \"Print Notation\"],\n",
    "    description='Print Option:',\n",
    "    disabled=False,\n",
    "    button_style='', # 'success', 'info', 'warning', 'danger' or ''\n",
    ")\n",
    "\n",
    "display(weights_option)\n",
    "\n",
    "display(dca_PS_button, output)\n",
    "\n",
    "def on_dca_button_clicked(b):\n",
    "    with output:\n",
    "        clear_output()\n",
    "        sequence = dca_functions.make_dca_spaced_pitch_sequence(offset, weights_option, length, pitch_range_slider, show_data=True)\n",
    "        print(\"Sequence:\", sequence)\n",
    "        \n",
    "        pitches = list(range(pitch_range_slider.value[0], pitch_range_slider.value[1]+1))\n",
    "        print(\"\\nPitch Frequency (total times each pitch occurs in sequence:\")\n",
    "        for pitch in pitches:\n",
    "            print(pitch, \":\", sequence.count(pitch))\n",
    "        \n",
    "dca_PS_button.on_click(on_dca_button_clicked)"
   ]
  },
  {
   "cell_type": "markdown",
   "metadata": {},
   "source": [
    "The DCA keeps track of how long it has been since each element (pitch in this case) has been selected and calculates the probability of it being selected next based on that count. A growth function can be specified to control how this count affects the probability (Tenney used an exponential function to increase the probability of high counts being selected). A weight parameter can be specified to affect the probability of individual elements (Tenney determined a pitch center which moved over time and calculated the weight of the other pitch elements using proximity). \n",
    "\n",
    "Try adjusting the above parameters and clicking the button to generate different sequences. The weight option \"equal\" will equally favor each element. \"favor lower\" and \"favor upper\" will favor one side or the other of the pitch range, while \"favor center\" will diminish the weight going up and down from the center (so the highest and lowest elements will have the lowest weight).\n",
    "\n",
    "Read through some of the data output. Each random note selection is printed with the counts for each element and their current probabilities. When a pitch element is selected, its count is set to zero and will increase with each future selection until it's selected again. It's probability will be the lowest right after being selected. Scroll to the bottom and look at the full sequence. Are there any direct repetitions? Probably not. There is still a small chance for direct repetitions to occur, but they will be very unlikely. Look at the pitch frequency for each element from the sequence. An equal weight should mean that the pitch frequencies are nearly identical. A favored weighting should be reflected as well. Try adjusting the sequence length. While very short sequences might still have some weird variations, the distribution should be much closer to that of the long sequences than in the iid random sequences."
   ]
  },
  {
   "cell_type": "markdown",
   "metadata": {},
   "source": [
    "# After an element is chosen, it's count goes to 0 and it's probability goes to near-zero. Higher counts are biased by the growth function (2**n) to have even higher probabilities."
   ]
  },
  {
   "cell_type": "markdown",
   "metadata": {},
   "source": [
    "# Now let's see what this looks like in notation"
   ]
  },
  {
   "cell_type": "code",
   "execution_count": null,
   "metadata": {},
   "outputs": [],
   "source": [
    "display(print_option)\n",
    "\n",
    "\n",
    "dca_PS_button2 = widgets.Button(\n",
    "    description='Make dissonant counterpoint spaced pitch sequence',\n",
    "    layout=widgets.Layout(width='350px'),\n",
    ")\n",
    "\n",
    "display(pitch_range_slider)\n",
    "display(length)\n",
    "display(weights_option)\n",
    "display(dca_PS_button2, output)\n",
    "\n",
    "def on_dca_button2_clicked(b):\n",
    "    with output:\n",
    "        clear_output()\n",
    "        sequence = dca_functions.make_dca_spaced_pitch_sequence(offset, weights_option, length, pitch_range_slider, show_data=False, print_ly=True)\n",
    "        print(\"Sequence:\", sequence)\n",
    "        \n",
    "        pitches = list(range(pitch_range_slider.value[0], pitch_range_slider.value[1]+1))\n",
    "        print(\"\\nPitch Frequency (total times each pitch occurs in sequence:\")\n",
    "        for pitch in pitches:\n",
    "            print(pitch, \":\", sequence.count(pitch))\n",
    "        \n",
    "dca_PS_button2.on_click(on_dca_button2_clicked)\n",
    "\n"
   ]
  },
  {
   "cell_type": "code",
   "execution_count": null,
   "metadata": {},
   "outputs": [],
   "source": [
    "sequence = make_dca_spaced_pitch_sequence(pitches, offset, weights, length)\n",
    "output_ly(sequence)"
   ]
  },
  {
   "cell_type": "markdown",
   "metadata": {},
   "source": [
    "# How about changing over time?"
   ]
  },
  {
   "cell_type": "markdown",
   "metadata": {},
   "source": [
    "1. make weights a function of their distance from a pitch center\n",
    "2. move that pitch center over time\n",
    "3. make sequences (clangs) vary in length\n",
    "4. increase pitch center and sequence average length until 2/3 through form, then decrease"
   ]
  },
  {
   "cell_type": "code",
   "execution_count": null,
   "metadata": {},
   "outputs": [],
   "source": [
    "def make_clang(pitches, weights, length, deviation, offset=0):\n",
    "    # length = average length +/- deviation range\n",
    "    length = length + randrange(deviation*-1, deviation)\n",
    "    sequence = make_dca_spaced_pitch_sequence(pitches, offset, weights, length)\n",
    "    sequence.append(\"rest\") # end every clang with a rest\n",
    "    return sequence"
   ]
  },
  {
   "cell_type": "code",
   "execution_count": null,
   "metadata": {},
   "outputs": [],
   "source": [
    "# build clangs\n",
    "total_clangs = 72\n",
    "\n",
    "# weight by proximity to pitch center\n",
    "increasing = [ 1 * i for i in range(1, 7) ]\n",
    "decreasing = list(reversed(increasing))\n",
    "weights = increasing + decreasing\n",
    "\n",
    "# make peak 2/3 of the way through form. Tenney does this with a calculation based on the golden mean, but is more/less in the same place\n",
    "peak = int(total_clangs * (2/3))\n",
    "\n",
    "length = 5\n",
    "length_deviation = int(length * 0.5)\n",
    "\n",
    "offset = -12\n",
    "pitch_center = 6\n",
    "clangs = []"
   ]
  },
  {
   "cell_type": "code",
   "execution_count": null,
   "metadata": {},
   "outputs": [],
   "source": [
    "for clang in range(total_clangs):\n",
    "    pitches = [*range(int(pitch_center) - 6, int(pitch_center+6))]\n",
    "    #print(pitches)\n",
    "\n",
    "    sequence = make_clang(pitches, weights, length, length_deviation, offset=offset)\n",
    "    clangs.append(sequence)\n",
    "\n",
    "    if clang < peak:\n",
    "        pitch_center += 0.6\n",
    "        length += 1\n",
    "    else:\n",
    "        pitch_center -= 1.25\n",
    "        length -= 2\n",
    "    length_deviation = int(length * 0.5)"
   ]
  },
  {
   "cell_type": "code",
   "execution_count": null,
   "metadata": {},
   "outputs": [],
   "source": [
    "for clang in clangs:\n",
    "    print(clang)"
   ]
  },
  {
   "cell_type": "code",
   "execution_count": null,
   "metadata": {},
   "outputs": [],
   "source": [
    "def output_clangs(clangs):\n",
    "    notes = []\n",
    "    for clang in clangs:\n",
    "        for pitch in clang:\n",
    "            if pitch == \"rest\":\n",
    "                notes.append(abjad.Rest('r8'))\n",
    "            else:\n",
    "                duration = abjad.Duration(1, 8)\n",
    "                note = abjad.Note(pitch, duration)\n",
    "                notes.append(note)\n",
    "\n",
    "    staff = abjad.Staff(notes)\n",
    "    abjad.show(staff)\n",
    "    abjad.play(staff)"
   ]
  },
  {
   "cell_type": "code",
   "execution_count": null,
   "metadata": {},
   "outputs": [],
   "source": [
    "output_clangs(clangs)"
   ]
  }
 ],
 "metadata": {
  "kernelspec": {
   "display_name": "Python 3",
   "language": "python",
   "name": "python3"
  },
  "language_info": {
   "codemirror_mode": {
    "name": "ipython",
    "version": 3
   },
   "file_extension": ".py",
   "mimetype": "text/x-python",
   "name": "python",
   "nbconvert_exporter": "python",
   "pygments_lexer": "ipython3",
   "version": "3.6.8"
  }
 },
 "nbformat": 4,
 "nbformat_minor": 2
}
