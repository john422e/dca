{
 "cells": [
  {
   "cell_type": "code",
   "execution_count": 1,
   "metadata": {},
   "outputs": [
    {
     "name": "stdout",
     "output_type": "stream",
     "text": [
      "\n",
      "The following command must be run outside of the IPython shell:\n",
      "\n",
      "    $ pip install abjad\n",
      "\n",
      "The Python package manager (pip) can only be used from outside of IPython.\n",
      "Please reissue the `pip` command in a separate terminal or command prompt.\n",
      "\n",
      "See the Python documentation for more information on how to install packages:\n",
      "\n",
      "    https://docs.python.org/3/installing/\n"
     ]
    }
   ],
   "source": [
    "pip install abjad"
   ]
  },
  {
   "cell_type": "code",
   "execution_count": 1,
   "metadata": {},
   "outputs": [],
   "source": [
    "import ipywidgets as widgets\n",
    "from IPython.display import clear_output\n",
    "from random import randrange\n",
    "import abjad, dca_functions"
   ]
  },
  {
   "cell_type": "code",
   "execution_count": 2,
   "metadata": {
    "scrolled": true
   },
   "outputs": [
    {
     "data": {
      "application/vnd.jupyter.widget-view+json": {
       "model_id": "79fa3ddaf8264da28d377da9c8fd25cb",
       "version_major": 2,
       "version_minor": 0
      },
      "text/plain": [
       "IntRangeSlider(value=(0, 11), description='Pitch Range:', max=11)"
      ]
     },
     "metadata": {},
     "output_type": "display_data"
    },
    {
     "data": {
      "application/vnd.jupyter.widget-view+json": {
       "model_id": "544b26ab18bc48cb9fe9096dce813b59",
       "version_major": 2,
       "version_minor": 0
      },
      "text/plain": [
       "IntSlider(value=50, description='Length (# notes):', max=500, min=1, style=SliderStyle(description_width='init…"
      ]
     },
     "metadata": {},
     "output_type": "display_data"
    }
   ],
   "source": [
    "# default declaration, can change with slider/button\n",
    "pitches = list(range(0, 12))\n",
    "\n",
    "pitch_range_slider = widgets.IntRangeSlider(\n",
    "    value=[0, 11],\n",
    "    min=0,\n",
    "    max=11, # make this larger to include more than one octave\n",
    "    description='Pitch Range:', # chromatic pitches\n",
    ")\n",
    "\n",
    "display(pitch_range_slider)\n",
    "\n",
    "# can change this to offset from middle C\n",
    "offset = 0\n",
    "\n",
    "# Number of pitches in sequence\n",
    "length = widgets.IntSlider(\n",
    "    value=50,\n",
    "    min=1,\n",
    "    max=500,\n",
    "    step=1,\n",
    "    description='Length (# notes):',\n",
    "    style={'description_width': 'initial', 'width': '800px'},\n",
    "    readout=True,\n",
    ")\n",
    "display(length)\n",
    "    \n"
   ]
  },
  {
   "cell_type": "code",
   "execution_count": 3,
   "metadata": {},
   "outputs": [
    {
     "data": {
      "application/vnd.jupyter.widget-view+json": {
       "model_id": "ed58b82420ec444f86ef6a935ab95d2f",
       "version_major": 2,
       "version_minor": 0
      },
      "text/plain": [
       "Button(description='Make random pitch sequence', layout=Layout(width='200px'), style=ButtonStyle())"
      ]
     },
     "metadata": {},
     "output_type": "display_data"
    },
    {
     "data": {
      "application/vnd.jupyter.widget-view+json": {
       "model_id": "30ea8992da3547ddbd81108f8f813ae8",
       "version_major": 2,
       "version_minor": 0
      },
      "text/plain": [
       "Output()"
      ]
     },
     "metadata": {},
     "output_type": "display_data"
    }
   ],
   "source": [
    "random_PS_button = widgets.Button(\n",
    "    description='Make random pitch sequence',\n",
    "    layout=widgets.Layout(width='200px'),\n",
    ")\n",
    "output = widgets.Output()\n",
    "\n",
    "display(random_PS_button, output)\n",
    "\n",
    "def on_button_clicked(b):\n",
    "    with output:\n",
    "        clear_output()\n",
    "        print(dca_functions.make_random_pitch_sequence(offset, length, pitch_range_slider))\n",
    "\n",
    "random_PS_button.on_click(on_button_clicked)"
   ]
  },
  {
   "cell_type": "markdown",
   "metadata": {},
   "source": [
    "# Notice the repetitions"
   ]
  },
  {
   "cell_type": "code",
   "execution_count": 4,
   "metadata": {},
   "outputs": [
    {
     "data": {
      "application/vnd.jupyter.widget-view+json": {
       "model_id": "79fa3ddaf8264da28d377da9c8fd25cb",
       "version_major": 2,
       "version_minor": 0
      },
      "text/plain": [
       "IntRangeSlider(value=(0, 11), description='Pitch Range:', max=11)"
      ]
     },
     "metadata": {},
     "output_type": "display_data"
    },
    {
     "data": {
      "application/vnd.jupyter.widget-view+json": {
       "model_id": "544b26ab18bc48cb9fe9096dce813b59",
       "version_major": 2,
       "version_minor": 0
      },
      "text/plain": [
       "IntSlider(value=50, description='Length (# notes):', max=500, min=1, style=SliderStyle(description_width='init…"
      ]
     },
     "metadata": {},
     "output_type": "display_data"
    },
    {
     "data": {
      "application/vnd.jupyter.widget-view+json": {
       "model_id": "09e26d917f864e82a7b54c63896f5f5c",
       "version_major": 2,
       "version_minor": 0
      },
      "text/plain": [
       "Dropdown(description='Weight options:', options=('equal', 'favor lower', 'favor center', 'favor upper'), style…"
      ]
     },
     "metadata": {},
     "output_type": "display_data"
    },
    {
     "data": {
      "application/vnd.jupyter.widget-view+json": {
       "model_id": "f8c5f84fd8e84483b4b018c791ce3594",
       "version_major": 2,
       "version_minor": 0
      },
      "text/plain": [
       "Button(description='Make dissonant counterpoint spaced pitch sequence', layout=Layout(width='350px'), style=Bu…"
      ]
     },
     "metadata": {},
     "output_type": "display_data"
    },
    {
     "data": {
      "application/vnd.jupyter.widget-view+json": {
       "model_id": "30ea8992da3547ddbd81108f8f813ae8",
       "version_major": 2,
       "version_minor": 0
      },
      "text/plain": [
       "Output()"
      ]
     },
     "metadata": {},
     "output_type": "display_data"
    }
   ],
   "source": [
    "dca_PS_button = widgets.Button(\n",
    "    description='Make dissonant counterpoint spaced pitch sequence',\n",
    "    layout=widgets.Layout(width='350px'),\n",
    ")\n",
    "\n",
    "display(pitch_range_slider)\n",
    "display(length)\n",
    "\n",
    "\n",
    "weights_option = widgets.Dropdown(\n",
    "    options=['equal', 'favor lower', 'favor center', 'favor upper'],\n",
    "    value='equal',\n",
    "    description='Weight options:',\n",
    "    style={'description_width': 'initial', 'width': '800px'},\n",
    ")\n",
    "\n",
    "print_option = widgets.ToggleButtons(\n",
    "    options=[\"Don't Print\", \"Print Notation\"],\n",
    "    description='Print Option:',\n",
    "    disabled=False,\n",
    "    button_style='', # 'success', 'info', 'warning', 'danger' or ''\n",
    ")\n",
    "\n",
    "display(weights_option)\n",
    "\n",
    "display(dca_PS_button, output)\n",
    "\n",
    "def on_dca_button_clicked(b):\n",
    "    with output:\n",
    "        clear_output()\n",
    "        sequence = dca_functions.make_dca_spaced_pitch_sequence(offset, weights_option, length, pitch_range_slider, show_data=True)\n",
    "        print(\"Sequence:\", sequence)\n",
    "        \n",
    "        pitches = list(range(pitch_range_slider.value[0], pitch_range_slider.value[1]+1))\n",
    "        print(\"\\nPitch Frequency (total times each pitch occurs in sequence:\")\n",
    "        for pitch in pitches:\n",
    "            print(pitch, \":\", sequence.count(pitch))\n",
    "        \n",
    "dca_PS_button.on_click(on_dca_button_clicked)"
   ]
  },
  {
   "cell_type": "markdown",
   "metadata": {},
   "source": [
    "# After an element is chosen, it's count goes to 0 and it's probability goes to near-zero. Higher counts are biased by the growth function (2**n) to have even higher probabilities."
   ]
  },
  {
   "cell_type": "markdown",
   "metadata": {},
   "source": [
    "# See any repetitions? Probably not!"
   ]
  },
  {
   "cell_type": "markdown",
   "metadata": {},
   "source": [
    "# Here's what the pitch frequency looks like:"
   ]
  },
  {
   "cell_type": "markdown",
   "metadata": {},
   "source": [
    "# what if we change the weights to favor certain pitches?"
   ]
  },
  {
   "cell_type": "markdown",
   "metadata": {},
   "source": [
    "# Still some randomness, but definitely skewed towards one side"
   ]
  },
  {
   "cell_type": "markdown",
   "metadata": {},
   "source": [
    "# Let's reset the weights to an equal value and try that again"
   ]
  },
  {
   "cell_type": "markdown",
   "metadata": {},
   "source": [
    "# Now let's see what this looks like in notation"
   ]
  },
  {
   "cell_type": "code",
   "execution_count": 5,
   "metadata": {},
   "outputs": [
    {
     "data": {
      "application/vnd.jupyter.widget-view+json": {
       "model_id": "65a222b322844b91871a0011a5c5aaa2",
       "version_major": 2,
       "version_minor": 0
      },
      "text/plain": [
       "ToggleButtons(description='Print Option:', options=(\"Don't Print\", 'Print Notation'), value=\"Don't Print\")"
      ]
     },
     "metadata": {},
     "output_type": "display_data"
    },
    {
     "data": {
      "application/vnd.jupyter.widget-view+json": {
       "model_id": "79fa3ddaf8264da28d377da9c8fd25cb",
       "version_major": 2,
       "version_minor": 0
      },
      "text/plain": [
       "IntRangeSlider(value=(0, 11), description='Pitch Range:', max=11)"
      ]
     },
     "metadata": {},
     "output_type": "display_data"
    },
    {
     "data": {
      "application/vnd.jupyter.widget-view+json": {
       "model_id": "544b26ab18bc48cb9fe9096dce813b59",
       "version_major": 2,
       "version_minor": 0
      },
      "text/plain": [
       "IntSlider(value=50, description='Length (# notes):', max=500, min=1, style=SliderStyle(description_width='init…"
      ]
     },
     "metadata": {},
     "output_type": "display_data"
    },
    {
     "data": {
      "application/vnd.jupyter.widget-view+json": {
       "model_id": "09e26d917f864e82a7b54c63896f5f5c",
       "version_major": 2,
       "version_minor": 0
      },
      "text/plain": [
       "Dropdown(description='Weight options:', options=('equal', 'favor lower', 'favor center', 'favor upper'), style…"
      ]
     },
     "metadata": {},
     "output_type": "display_data"
    },
    {
     "data": {
      "application/vnd.jupyter.widget-view+json": {
       "model_id": "983b95a0dd1e48068418e90b3f8167e0",
       "version_major": 2,
       "version_minor": 0
      },
      "text/plain": [
       "Button(description='Make dissonant counterpoint spaced pitch sequence', layout=Layout(width='350px'), style=Bu…"
      ]
     },
     "metadata": {},
     "output_type": "display_data"
    },
    {
     "data": {
      "application/vnd.jupyter.widget-view+json": {
       "model_id": "30ea8992da3547ddbd81108f8f813ae8",
       "version_major": 2,
       "version_minor": 0
      },
      "text/plain": [
       "Output()"
      ]
     },
     "metadata": {},
     "output_type": "display_data"
    }
   ],
   "source": [
    "display(print_option)\n",
    "\n",
    "\n",
    "dca_PS_button2 = widgets.Button(\n",
    "    description='Make dissonant counterpoint spaced pitch sequence',\n",
    "    layout=widgets.Layout(width='350px'),\n",
    ")\n",
    "\n",
    "display(pitch_range_slider)\n",
    "display(length)\n",
    "display(weights_option)\n",
    "display(dca_PS_button2, output)\n",
    "\n",
    "def on_dca_button2_clicked(b):\n",
    "    with output:\n",
    "        clear_output()\n",
    "        sequence = dca_functions.make_dca_spaced_pitch_sequence(offset, weights_option, length, pitch_range_slider, show_data=False, print_ly=True)\n",
    "        print(\"Sequence:\", sequence)\n",
    "        \n",
    "        pitches = list(range(pitch_range_slider.value[0], pitch_range_slider.value[1]+1))\n",
    "        print(\"\\nPitch Frequency (total times each pitch occurs in sequence:\")\n",
    "        for pitch in pitches:\n",
    "            print(pitch, \":\", sequence.count(pitch))\n",
    "        \n",
    "dca_PS_button2.on_click(on_dca_button2_clicked)\n",
    "\n"
   ]
  },
  {
   "cell_type": "code",
   "execution_count": null,
   "metadata": {},
   "outputs": [],
   "source": [
    "sequence = make_dca_spaced_pitch_sequence(pitches, offset, weights, length)\n",
    "output_ly(sequence)"
   ]
  },
  {
   "cell_type": "markdown",
   "metadata": {},
   "source": [
    "# How about changing over time?"
   ]
  },
  {
   "cell_type": "markdown",
   "metadata": {},
   "source": [
    "1. make weights a function of their distance from a pitch center\n",
    "2. move that pitch center over time\n",
    "3. make sequences (clangs) vary in length\n",
    "4. increase pitch center and sequence average length until 2/3 through form, then decrease"
   ]
  },
  {
   "cell_type": "code",
   "execution_count": null,
   "metadata": {},
   "outputs": [],
   "source": [
    "def make_clang(pitches, weights, length, deviation, offset=0):\n",
    "    # length = average length +/- deviation range\n",
    "    length = length + randrange(deviation*-1, deviation)\n",
    "    sequence = make_dca_spaced_pitch_sequence(pitches, offset, weights, length)\n",
    "    sequence.append(\"rest\") # end every clang with a rest\n",
    "    return sequence"
   ]
  },
  {
   "cell_type": "code",
   "execution_count": null,
   "metadata": {},
   "outputs": [],
   "source": [
    "# build clangs\n",
    "total_clangs = 72\n",
    "\n",
    "# weight by proximity to pitch center\n",
    "increasing = [ 1 * i for i in range(1, 7) ]\n",
    "decreasing = list(reversed(increasing))\n",
    "weights = increasing + decreasing\n",
    "\n",
    "# make peak 2/3 of the way through form. Tenney does this with a calculation based on the golden mean, but is more/less in the same place\n",
    "peak = int(total_clangs * (2/3))\n",
    "\n",
    "length = 5\n",
    "length_deviation = int(length * 0.5)\n",
    "\n",
    "offset = -12\n",
    "pitch_center = 6\n",
    "clangs = []"
   ]
  },
  {
   "cell_type": "code",
   "execution_count": null,
   "metadata": {},
   "outputs": [],
   "source": [
    "for clang in range(total_clangs):\n",
    "    pitches = [*range(int(pitch_center) - 6, int(pitch_center+6))]\n",
    "    #print(pitches)\n",
    "\n",
    "    sequence = make_clang(pitches, weights, length, length_deviation, offset=offset)\n",
    "    clangs.append(sequence)\n",
    "\n",
    "    if clang < peak:\n",
    "        pitch_center += 0.6\n",
    "        length += 1\n",
    "    else:\n",
    "        pitch_center -= 1.25\n",
    "        length -= 2\n",
    "    length_deviation = int(length * 0.5)"
   ]
  },
  {
   "cell_type": "code",
   "execution_count": null,
   "metadata": {},
   "outputs": [],
   "source": [
    "for clang in clangs:\n",
    "    print(clang)"
   ]
  },
  {
   "cell_type": "code",
   "execution_count": null,
   "metadata": {},
   "outputs": [],
   "source": [
    "def output_clangs(clangs):\n",
    "    notes = []\n",
    "    for clang in clangs:\n",
    "        for pitch in clang:\n",
    "            if pitch == \"rest\":\n",
    "                notes.append(abjad.Rest('r8'))\n",
    "            else:\n",
    "                duration = abjad.Duration(1, 8)\n",
    "                note = abjad.Note(pitch, duration)\n",
    "                notes.append(note)\n",
    "\n",
    "    staff = abjad.Staff(notes)\n",
    "    abjad.show(staff)\n",
    "    abjad.play(staff)"
   ]
  },
  {
   "cell_type": "code",
   "execution_count": null,
   "metadata": {},
   "outputs": [],
   "source": [
    "output_clangs(clangs)"
   ]
  }
 ],
 "metadata": {
  "kernelspec": {
   "display_name": "Python 3",
   "language": "python",
   "name": "python3"
  },
  "language_info": {
   "codemirror_mode": {
    "name": "ipython",
    "version": 3
   },
   "file_extension": ".py",
   "mimetype": "text/x-python",
   "name": "python",
   "nbconvert_exporter": "python",
   "pygments_lexer": "ipython3",
   "version": "3.6.8"
  },
  "widgets": {
   "application/vnd.jupyter.widget-state+json": {
    "state": {},
    "version_major": 2,
    "version_minor": 0
   }
  }
 },
 "nbformat": 4,
 "nbformat_minor": 2
}
